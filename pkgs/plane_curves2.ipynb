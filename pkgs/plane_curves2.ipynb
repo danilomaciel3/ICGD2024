{
 "cells": [
  {
   "cell_type": "code",
   "execution_count": 1,
   "id": "8d70b0a7-1adc-49ae-b4ad-5dfc1b2ee6c2",
   "metadata": {},
   "outputs": [],
   "source": [
    "from sage.all import *"
   ]
  },
  {
   "cell_type": "code",
   "execution_count": 2,
   "id": "e9d89041-a809-49e5-be60-be71a2934a26",
   "metadata": {},
   "outputs": [],
   "source": [
    "x_diff, y_diff, t = var(\"x_diff, y_diff, t\")"
   ]
  },
  {
   "cell_type": "code",
   "execution_count": 3,
   "id": "2fb14407-ebbb-4491-9f3b-49d64b83f49a",
   "metadata": {},
   "outputs": [],
   "source": [
    "def discrete_set_of_tangents(curvature_func, inf_interval, sup_interval,\n",
    "                             init_velocity, n_pts):\n",
    "    tangents = desolve_odeint(\n",
    "        [-curvature_func * y_diff, curvature_func * x_diff],\n",
    "        init_velocity,\n",
    "        srange(\n",
    "            inf_interval,\n",
    "            sup_interval,\n",
    "            (sup_interval - inf_interval) / n_pts\n",
    "        ),\n",
    "        [x_diff, y_diff]\n",
    "    )\n",
    "    return tangents"
   ]
  },
  {
   "cell_type": "code",
   "execution_count": 4,
   "id": "fb194d12-a9f5-442e-a484-a8fa229c39b3",
   "metadata": {},
   "outputs": [],
   "source": [
    "def approximate_position_in_the_ith_step(curvature_func, inf_interval,\n",
    "                                         sup_interval, init_position,\n",
    "                                         set_of_tangents, n_pts):\n",
    "    subpartition = [\n",
    "        discrete_set_of_tangents(\n",
    "            curvature_func,\n",
    "            inf_interval + i * ((sup_interval - inf_interval) / n_pts),\n",
    "            inf_interval + (i + 1) * ((sup_interval - inf_interval) / n_pts),\n",
    "            set_of_tangents[i],\n",
    "            n_pts\n",
    "        ) for i in range(n_pts)\n",
    "    ]\n",
    "    positions = [\n",
    "        [\n",
    "            init_position[0] + sum(\n",
    "                [\n",
    "                    sum(\n",
    "                        [v[0] for v in subpartition[j]]\n",
    "                    ) * (sup_interval - inf_interval) / n_pts\n",
    "                    for j in range(i)\n",
    "                ]\n",
    "            ),\n",
    "            init_position[1] + sum(\n",
    "                [\n",
    "                    sum(\n",
    "                        [v[1] for v in subpartition[j]]\n",
    "                    ) * (sup_interval - inf_interval) / n_pts\n",
    "                    for j in range(i)\n",
    "                ]\n",
    "            )\n",
    "        ] for i in range(n_pts)\n",
    "    ]\n",
    "    return positions"
   ]
  },
  {
   "cell_type": "code",
   "execution_count": 5,
   "id": "4df582e8-6b86-473b-b22f-6bb98a2df830",
   "metadata": {},
   "outputs": [],
   "source": [
    "curvature_func(t) = t\n",
    "inf_interval = 0.000000\n",
    "sup_interval = 3.141592 * 2\n",
    "init_position = [0.000000, 0.000000]\n",
    "init_velocity = [1.000000, 1.000000]\n",
    "n_pts = 128"
   ]
  },
  {
   "cell_type": "code",
   "execution_count": 7,
   "id": "5aaf9df9-7c88-43f1-a215-a362ccdddd20",
   "metadata": {},
   "outputs": [],
   "source": [
    "set_of_tangents = discrete_set_of_tangents(curvature_func, inf_interval,\n",
    "                                           sup_interval, init_velocity, n_pts)\n",
    "set_of_points = approximate_position_in_the_ith_step(curvature_func,\n",
    "                                                     inf_interval,\n",
    "                                                     sup_interval,\n",
    "                                                     init_position,\n",
    "                                                     set_of_tangents, n_pts)\n",
    "P = points(set_of_points)"
   ]
  },
  {
   "cell_type": "code",
   "execution_count": 8,
   "id": "79c4ddbf-578b-4431-b790-4bdc719e4732",
   "metadata": {},
   "outputs": [
    {
     "data": {
      "image/png": "[encoded data removed]",
      "text/plain": [
       "Graphics object consisting of 1 graphics primitive"
      ]
     },
     "execution_count": 8,
     "metadata": {},
     "output_type": "execute_result"
    }
   ],
   "source": [
    "P"
   ]
  },
  {
   "cell_type": "code",
   "execution_count": null,
   "id": "f4164e53-db85-429c-80c2-a1001544a374",
   "metadata": {},
   "outputs": [],
   "source": []
  }
 ],
 "metadata": {
  "kernelspec": {
   "display_name": "SageMath 10.3",
   "language": "sage",
   "name": "sagemath"
  },
  "language_info": {
   "codemirror_mode": {
    "name": "ipython",
    "version": 3
   },
   "file_extension": ".py",
   "mimetype": "text/x-python",
   "name": "python",
   "nbconvert_exporter": "python",
   "pygments_lexer": "ipython3",
   "version": "3.9.19"
  }
 },
 "nbformat": 4,
 "nbformat_minor": 5
}
